{
 "cells": [
  {
   "cell_type": "code",
   "execution_count": 1,
   "id": "312e9069",
   "metadata": {},
   "outputs": [],
   "source": [
    "import pandas as pd\n",
    "import pickle\n",
    "from gensim import corpora, models\n",
    "import gensim\n",
    "from gensim.test.utils import datapath"
   ]
  },
  {
   "cell_type": "code",
   "execution_count": 2,
   "id": "06094e1e",
   "metadata": {},
   "outputs": [],
   "source": [
    "tfidf_model = pickle.load(open('tfidf_model', 'rb'))"
   ]
  },
  {
   "cell_type": "code",
   "execution_count": 3,
   "id": "c1f0aba4",
   "metadata": {},
   "outputs": [],
   "source": [
    "bow_corpus = pickle.load(open('bow_corpus', 'rb'))"
   ]
  },
  {
   "cell_type": "code",
   "execution_count": 4,
   "id": "63f96400",
   "metadata": {},
   "outputs": [],
   "source": [
    "corpus_tfidf = tfidf_model[bow_corpus]"
   ]
  },
  {
   "cell_type": "code",
   "execution_count": 5,
   "id": "309e349e",
   "metadata": {},
   "outputs": [
    {
     "data": {
      "text/plain": [
       "<gensim.interfaces.TransformedCorpus at 0x7fa23c394f90>"
      ]
     },
     "execution_count": 5,
     "metadata": {},
     "output_type": "execute_result"
    }
   ],
   "source": [
    "corpus_tfidf"
   ]
  },
  {
   "cell_type": "code",
   "execution_count": 6,
   "id": "15b753d0",
   "metadata": {},
   "outputs": [
    {
     "name": "stdout",
     "output_type": "stream",
     "text": [
      "[(0, 0.40431521377517066), (1, 0.10942065781484822), (2, 0.12323782154992922), (3, 0.21469067395609676), (4, 0.1362408423320676), (5, 0.29663603256220555), (6, 0.1071332759428693), (7, 0.0643412069824436), (8, 0.373479027875044), (9, 0.05779536512737832), (10, 0.15735801050807843), (11, 0.19739809929864674), (12, 0.28634542371262944), (13, 0.2531807828279983), (14, 0.07246612418934566), (15, 0.14525249929973402), (16, 0.16023854911340293), (17, 0.2912213780457279), (18, 0.3893844955050211)]\n"
     ]
    }
   ],
   "source": [
    "for doc in corpus_tfidf:\n",
    "    print(doc)\n",
    "    break"
   ]
  },
  {
   "cell_type": "code",
   "execution_count": 8,
   "id": "764a2eaa",
   "metadata": {},
   "outputs": [],
   "source": [
    "tokens = pickle.load(open('tokens', 'rb'))\n",
    "dictionary = corpora.Dictionary(tokens)"
   ]
  },
  {
   "cell_type": "code",
   "execution_count": 10,
   "id": "333f5b1c",
   "metadata": {},
   "outputs": [],
   "source": [
    "lda_model_tfidf = gensim.models.LdaMulticore(corpus_tfidf, id2word=dictionary, num_topics = 15,passes=2,eval_every = None,\n",
    "                random_state = 111, chunksize = 100)"
   ]
  },
  {
   "cell_type": "code",
   "execution_count": 11,
   "id": "3946636f",
   "metadata": {},
   "outputs": [],
   "source": [
    "temp_file = datapath(\"lda_model_tfidf\")\n",
    "lda_model_tfidf.save(temp_file)"
   ]
  },
  {
   "cell_type": "code",
   "execution_count": 12,
   "id": "668776d2",
   "metadata": {},
   "outputs": [],
   "source": [
    "pickle.dump(lda_model_tfidf, open(\"lda_model_tfidf\", 'wb'))"
   ]
  },
  {
   "cell_type": "code",
   "execution_count": 13,
   "id": "bb838200",
   "metadata": {},
   "outputs": [
    {
     "data": {
      "text/plain": [
       "[(0,\n",
       "  '0.017*\"popcorn\" + 0.014*\"jelly\" + 0.012*\"splenda\" + 0.011*\"future\" + 0.011*\"noodle\" + 0.009*\"carrying\" + 0.009*\"chili\" + 0.009*\"compared\" + 0.008*\"today\" + 0.008*\"thrilled\"'),\n",
       " (1,\n",
       "  '0.006*\"love\" + 0.006*\"like\" + 0.006*\"good\" + 0.006*\"great\" + 0.006*\"taste\" + 0.006*\"product\" + 0.005*\"it\" + 0.004*\"time\" + 0.004*\"flavor\" + 0.004*\"buy\"'),\n",
       " (2,\n",
       "  '0.010*\"enjoying\" + 0.009*\"kept\" + 0.009*\"search\" + 0.009*\"staple\" + 0.009*\"made\" + 0.009*\"delighted\" + 0.009*\"gotten\" + 0.008*\"general\" + 0.008*\"safe\" + 0.008*\"cafe\"'),\n",
       " (3,\n",
       "  '0.017*\"drop\" + 0.012*\"dressing\" + 0.010*\"pantry\" + 0.010*\"present\" + 0.010*\"sitting\" + 0.009*\"pill\" + 0.009*\"handful\" + 0.008*\"flavour\" + 0.008*\"provides\" + 0.008*\"average\"'),\n",
       " (4,\n",
       "  '0.022*\"chai\" + 0.013*\"mac\" + 0.010*\"prepared\" + 0.010*\"freshness\" + 0.010*\"shell\" + 0.010*\"sam\" + 0.010*\"sit\" + 0.010*\"canned\" + 0.009*\"club\" + 0.009*\"authentic\"'),\n",
       " (5,\n",
       "  '0.022*\"special\" + 0.020*\"k\" + 0.019*\"gf\" + 0.017*\"penny\" + 0.015*\"nutrient\" + 0.014*\"filler\" + 0.014*\"flower\" + 0.014*\"correct\" + 0.014*\"cardboard\" + 0.014*\"training\"'),\n",
       " (6,\n",
       "  '0.016*\"roast\" + 0.015*\"starbucks\" + 0.011*\"warm\" + 0.011*\"costco\" + 0.010*\"find\" + 0.010*\"worry\" + 0.010*\"sorry\" + 0.010*\"flavoring\" + 0.009*\"stopped\" + 0.009*\"diabetic\"'),\n",
       " (7,\n",
       "  '0.023*\"hair\" + 0.014*\"nutritious\" + 0.011*\"figure\" + 0.011*\"particular\" + 0.011*\"slight\" + 0.010*\"dissolve\" + 0.010*\"heaven\" + 0.010*\"sweeter\" + 0.010*\"aware\" + 0.009*\"cent\"'),\n",
       " (8,\n",
       "  '0.023*\"homemade\" + 0.018*\"ground\" + 0.016*\"salmon\" + 0.013*\"maker\" + 0.012*\"mint\" + 0.010*\"usual\" + 0.009*\"drank\" + 0.009*\"mixture\" + 0.009*\"charge\" + 0.009*\"bob\"'),\n",
       " (9,\n",
       "  '0.019*\"kraft\" + 0.015*\"saving\" + 0.013*\"hazelnut\" + 0.013*\"member\" + 0.013*\"ran\" + 0.011*\"grocer\" + 0.011*\"retail\" + 0.011*\"wild\" + 0.011*\"includes\" + 0.010*\"enjoyable\"'),\n",
       " (10,\n",
       "  '0.013*\"machine\" + 0.010*\"feed\" + 0.009*\"chew\" + 0.009*\"formula\" + 0.009*\"puppy\" + 0.008*\"stevia\" + 0.008*\"dog\" + 0.008*\"pet\" + 0.008*\"alot\" + 0.008*\"eater\"'),\n",
       " (11,\n",
       "  '0.034*\"quaker\" + 0.025*\"chewy\" + 0.016*\"granola\" + 0.015*\"pricey\" + 0.012*\"carbs\" + 0.012*\"oat\" + 0.011*\"oatmeal\" + 0.010*\"buttery\" + 0.010*\"meat\" + 0.009*\"pumpkin\"'),\n",
       " (12,\n",
       "  '0.010*\"coffee\" + 0.009*\"tea\" + 0.007*\"great\" + 0.007*\"flavor\" + 0.007*\"price\" + 0.006*\"good\" + 0.006*\"taste\" + 0.006*\"love\" + 0.006*\"product\" + 0.005*\"amazon\"'),\n",
       " (13,\n",
       "  '0.023*\"priced\" + 0.020*\"bake\" + 0.016*\"movie\" + 0.013*\"reasonably\" + 0.012*\"press\" + 0.012*\"anywhere\" + 0.011*\"funny\" + 0.011*\"pup\" + 0.010*\"burger\" + 0.010*\"college\"'),\n",
       " (14,\n",
       "  '0.008*\"butter\" + 0.008*\"soft\" + 0.005*\"oatmeal\" + 0.005*\"pasta\" + 0.005*\"snack\" + 0.005*\"expected\" + 0.005*\"taste\" + 0.005*\"calorie\" + 0.004*\"coconut\" + 0.004*\"cookie\"')]"
      ]
     },
     "execution_count": 13,
     "metadata": {},
     "output_type": "execute_result"
    }
   ],
   "source": [
    "lda_model_tfidf.print_topics()"
   ]
  },
  {
   "cell_type": "code",
   "execution_count": 28,
   "id": "f6c3d735",
   "metadata": {},
   "outputs": [
    {
     "ename": "TypeError",
     "evalue": "'int' object is not iterable",
     "output_type": "error",
     "traceback": [
      "\u001b[0;31m---------------------------------------------------------------------------\u001b[0m",
      "\u001b[0;31mTypeError\u001b[0m                                 Traceback (most recent call last)",
      "\u001b[0;32m/var/folders/cz/mf6k7s456v95hf4y3g4lyfz40000gn/T/ipykernel_22237/2456139878.py\u001b[0m in \u001b[0;36m<module>\u001b[0;34m\u001b[0m\n\u001b[1;32m      2\u001b[0m \u001b[0;31m# print(\"Log Likelihood: \", lda_model_bow.score(data_vectorized))\u001b[0m\u001b[0;34m\u001b[0m\u001b[0;34m\u001b[0m\u001b[0;34m\u001b[0m\u001b[0m\n\u001b[1;32m      3\u001b[0m \u001b[0;31m# Perplexity: Lower the better. Perplexity = exp(-1. * log-likelihood per word)\u001b[0m\u001b[0;34m\u001b[0m\u001b[0;34m\u001b[0m\u001b[0;34m\u001b[0m\u001b[0m\n\u001b[0;32m----> 4\u001b[0;31m \u001b[0mprint\u001b[0m\u001b[0;34m(\u001b[0m\u001b[0;34m\"Perplexity: \"\u001b[0m\u001b[0;34m,\u001b[0m \u001b[0mlda_model_bow\u001b[0m\u001b[0;34m.\u001b[0m\u001b[0mlog_perplexity\u001b[0m\u001b[0;34m(\u001b[0m\u001b[0mdictionary\u001b[0m\u001b[0;34m)\u001b[0m\u001b[0;34m)\u001b[0m\u001b[0;34m\u001b[0m\u001b[0;34m\u001b[0m\u001b[0m\n\u001b[0m\u001b[1;32m      5\u001b[0m \u001b[0;31m# See model parameters\u001b[0m\u001b[0;34m\u001b[0m\u001b[0;34m\u001b[0m\u001b[0;34m\u001b[0m\u001b[0m\n\u001b[1;32m      6\u001b[0m \u001b[0mpprint\u001b[0m\u001b[0;34m(\u001b[0m\u001b[0mlda_model_bow\u001b[0m\u001b[0;34m.\u001b[0m\u001b[0mget_params\u001b[0m\u001b[0;34m(\u001b[0m\u001b[0;34m)\u001b[0m\u001b[0;34m)\u001b[0m\u001b[0;34m\u001b[0m\u001b[0;34m\u001b[0m\u001b[0m\n",
      "\u001b[0;32m~/opt/miniconda3/envs/myenv/lib/python3.7/site-packages/gensim/models/ldamodel.py\u001b[0m in \u001b[0;36mlog_perplexity\u001b[0;34m(self, chunk, total_docs)\u001b[0m\n\u001b[1;32m    842\u001b[0m         \u001b[0;32mif\u001b[0m \u001b[0mtotal_docs\u001b[0m \u001b[0;32mis\u001b[0m \u001b[0;32mNone\u001b[0m\u001b[0;34m:\u001b[0m\u001b[0;34m\u001b[0m\u001b[0;34m\u001b[0m\u001b[0m\n\u001b[1;32m    843\u001b[0m             \u001b[0mtotal_docs\u001b[0m \u001b[0;34m=\u001b[0m \u001b[0mlen\u001b[0m\u001b[0;34m(\u001b[0m\u001b[0mchunk\u001b[0m\u001b[0;34m)\u001b[0m\u001b[0;34m\u001b[0m\u001b[0;34m\u001b[0m\u001b[0m\n\u001b[0;32m--> 844\u001b[0;31m         \u001b[0mcorpus_words\u001b[0m \u001b[0;34m=\u001b[0m \u001b[0msum\u001b[0m\u001b[0;34m(\u001b[0m\u001b[0mcnt\u001b[0m \u001b[0;32mfor\u001b[0m \u001b[0mdocument\u001b[0m \u001b[0;32min\u001b[0m \u001b[0mchunk\u001b[0m \u001b[0;32mfor\u001b[0m \u001b[0m_\u001b[0m\u001b[0;34m,\u001b[0m \u001b[0mcnt\u001b[0m \u001b[0;32min\u001b[0m \u001b[0mdocument\u001b[0m\u001b[0;34m)\u001b[0m\u001b[0;34m\u001b[0m\u001b[0;34m\u001b[0m\u001b[0m\n\u001b[0m\u001b[1;32m    845\u001b[0m         \u001b[0msubsample_ratio\u001b[0m \u001b[0;34m=\u001b[0m \u001b[0;36m1.0\u001b[0m \u001b[0;34m*\u001b[0m \u001b[0mtotal_docs\u001b[0m \u001b[0;34m/\u001b[0m \u001b[0mlen\u001b[0m\u001b[0;34m(\u001b[0m\u001b[0mchunk\u001b[0m\u001b[0;34m)\u001b[0m\u001b[0;34m\u001b[0m\u001b[0;34m\u001b[0m\u001b[0m\n\u001b[1;32m    846\u001b[0m         \u001b[0mperwordbound\u001b[0m \u001b[0;34m=\u001b[0m \u001b[0mself\u001b[0m\u001b[0;34m.\u001b[0m\u001b[0mbound\u001b[0m\u001b[0;34m(\u001b[0m\u001b[0mchunk\u001b[0m\u001b[0;34m,\u001b[0m \u001b[0msubsample_ratio\u001b[0m\u001b[0;34m=\u001b[0m\u001b[0msubsample_ratio\u001b[0m\u001b[0;34m)\u001b[0m \u001b[0;34m/\u001b[0m \u001b[0;34m(\u001b[0m\u001b[0msubsample_ratio\u001b[0m \u001b[0;34m*\u001b[0m \u001b[0mcorpus_words\u001b[0m\u001b[0;34m)\u001b[0m\u001b[0;34m\u001b[0m\u001b[0;34m\u001b[0m\u001b[0m\n",
      "\u001b[0;32m~/opt/miniconda3/envs/myenv/lib/python3.7/site-packages/gensim/models/ldamodel.py\u001b[0m in \u001b[0;36m<genexpr>\u001b[0;34m(.0)\u001b[0m\n\u001b[1;32m    842\u001b[0m         \u001b[0;32mif\u001b[0m \u001b[0mtotal_docs\u001b[0m \u001b[0;32mis\u001b[0m \u001b[0;32mNone\u001b[0m\u001b[0;34m:\u001b[0m\u001b[0;34m\u001b[0m\u001b[0;34m\u001b[0m\u001b[0m\n\u001b[1;32m    843\u001b[0m             \u001b[0mtotal_docs\u001b[0m \u001b[0;34m=\u001b[0m \u001b[0mlen\u001b[0m\u001b[0;34m(\u001b[0m\u001b[0mchunk\u001b[0m\u001b[0;34m)\u001b[0m\u001b[0;34m\u001b[0m\u001b[0;34m\u001b[0m\u001b[0m\n\u001b[0;32m--> 844\u001b[0;31m         \u001b[0mcorpus_words\u001b[0m \u001b[0;34m=\u001b[0m \u001b[0msum\u001b[0m\u001b[0;34m(\u001b[0m\u001b[0mcnt\u001b[0m \u001b[0;32mfor\u001b[0m \u001b[0mdocument\u001b[0m \u001b[0;32min\u001b[0m \u001b[0mchunk\u001b[0m \u001b[0;32mfor\u001b[0m \u001b[0m_\u001b[0m\u001b[0;34m,\u001b[0m \u001b[0mcnt\u001b[0m \u001b[0;32min\u001b[0m \u001b[0mdocument\u001b[0m\u001b[0;34m)\u001b[0m\u001b[0;34m\u001b[0m\u001b[0;34m\u001b[0m\u001b[0m\n\u001b[0m\u001b[1;32m    845\u001b[0m         \u001b[0msubsample_ratio\u001b[0m \u001b[0;34m=\u001b[0m \u001b[0;36m1.0\u001b[0m \u001b[0;34m*\u001b[0m \u001b[0mtotal_docs\u001b[0m \u001b[0;34m/\u001b[0m \u001b[0mlen\u001b[0m\u001b[0;34m(\u001b[0m\u001b[0mchunk\u001b[0m\u001b[0;34m)\u001b[0m\u001b[0;34m\u001b[0m\u001b[0;34m\u001b[0m\u001b[0m\n\u001b[1;32m    846\u001b[0m         \u001b[0mperwordbound\u001b[0m \u001b[0;34m=\u001b[0m \u001b[0mself\u001b[0m\u001b[0;34m.\u001b[0m\u001b[0mbound\u001b[0m\u001b[0;34m(\u001b[0m\u001b[0mchunk\u001b[0m\u001b[0;34m,\u001b[0m \u001b[0msubsample_ratio\u001b[0m\u001b[0;34m=\u001b[0m\u001b[0msubsample_ratio\u001b[0m\u001b[0;34m)\u001b[0m \u001b[0;34m/\u001b[0m \u001b[0;34m(\u001b[0m\u001b[0msubsample_ratio\u001b[0m \u001b[0;34m*\u001b[0m \u001b[0mcorpus_words\u001b[0m\u001b[0;34m)\u001b[0m\u001b[0;34m\u001b[0m\u001b[0;34m\u001b[0m\u001b[0m\n",
      "\u001b[0;31mTypeError\u001b[0m: 'int' object is not iterable"
     ]
    }
   ],
   "source": [
    "# Log Likelyhood: Higher the better\n",
    "# print(\"Log Likelihood: \", lda_model_bow.score(data_vectorized))\n",
    "# Perplexity: Lower the better. Perplexity = exp(-1. * log-likelihood per word)\n",
    "print(\"Perplexity: \", lda_model_bow.log_perplexity(dictionary))\n",
    "# See model parameters\n",
    "pprint(lda_model_bow.get_params())"
   ]
  }
 ],
 "metadata": {
  "kernelspec": {
   "display_name": "Python 3 (ipykernel)",
   "language": "python",
   "name": "python3"
  },
  "language_info": {
   "codemirror_mode": {
    "name": "ipython",
    "version": 3
   },
   "file_extension": ".py",
   "mimetype": "text/x-python",
   "name": "python",
   "nbconvert_exporter": "python",
   "pygments_lexer": "ipython3",
   "version": "3.7.13"
  }
 },
 "nbformat": 4,
 "nbformat_minor": 5
}
